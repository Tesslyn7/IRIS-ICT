{
 "cells": [
  {
   "cell_type": "markdown",
   "id": "3384b47f",
   "metadata": {},
   "source": [
    "## Q.1. Read the dataset to python environment\n"
   ]
  },
  {
   "cell_type": "code",
   "execution_count": 69,
   "id": "5f377d44",
   "metadata": {},
   "outputs": [],
   "source": [
    "import numpy as np # importing Library"
   ]
  },
  {
   "cell_type": "code",
   "execution_count": 70,
   "id": "880efdd8",
   "metadata": {},
   "outputs": [],
   "source": [
    "import pandas as pd # importing Library"
   ]
  },
  {
   "cell_type": "code",
   "execution_count": 71,
   "id": "553d61ea",
   "metadata": {},
   "outputs": [],
   "source": [
    "import seaborn as sns"
   ]
  },
  {
   "cell_type": "code",
   "execution_count": 78,
   "id": "e66ba0e4",
   "metadata": {},
   "outputs": [],
   "source": [
    "import matplotlib.pyplot as plt # importing Library"
   ]
  },
  {
   "cell_type": "code",
   "execution_count": 79,
   "id": "7238a556",
   "metadata": {},
   "outputs": [],
   "source": [
    "data=pd.read_excel(\"C:/Users/tessl/Downloads/iris.xls\")  #Reading data from source file"
   ]
  },
  {
   "cell_type": "code",
   "execution_count": 80,
   "id": "8fb1f0df",
   "metadata": {},
   "outputs": [
    {
     "data": {
      "text/html": [
       "<div>\n",
       "<style scoped>\n",
       "    .dataframe tbody tr th:only-of-type {\n",
       "        vertical-align: middle;\n",
       "    }\n",
       "\n",
       "    .dataframe tbody tr th {\n",
       "        vertical-align: top;\n",
       "    }\n",
       "\n",
       "    .dataframe thead th {\n",
       "        text-align: right;\n",
       "    }\n",
       "</style>\n",
       "<table border=\"1\" class=\"dataframe\">\n",
       "  <thead>\n",
       "    <tr style=\"text-align: right;\">\n",
       "      <th></th>\n",
       "      <th>SL</th>\n",
       "      <th>SW</th>\n",
       "      <th>PL</th>\n",
       "      <th>PW</th>\n",
       "      <th>Classification</th>\n",
       "    </tr>\n",
       "  </thead>\n",
       "  <tbody>\n",
       "    <tr>\n",
       "      <th>0</th>\n",
       "      <td>5.1</td>\n",
       "      <td>3.5</td>\n",
       "      <td>1.4</td>\n",
       "      <td>0.2</td>\n",
       "      <td>Iris-setosa</td>\n",
       "    </tr>\n",
       "    <tr>\n",
       "      <th>1</th>\n",
       "      <td>4.9</td>\n",
       "      <td>3.0</td>\n",
       "      <td>1.4</td>\n",
       "      <td>0.2</td>\n",
       "      <td>Iris-setosa</td>\n",
       "    </tr>\n",
       "    <tr>\n",
       "      <th>2</th>\n",
       "      <td>4.7</td>\n",
       "      <td>3.2</td>\n",
       "      <td>1.3</td>\n",
       "      <td>0.2</td>\n",
       "      <td>Iris-setosa</td>\n",
       "    </tr>\n",
       "    <tr>\n",
       "      <th>3</th>\n",
       "      <td>4.6</td>\n",
       "      <td>3.1</td>\n",
       "      <td>1.5</td>\n",
       "      <td>0.2</td>\n",
       "      <td>Iris-setosa</td>\n",
       "    </tr>\n",
       "    <tr>\n",
       "      <th>4</th>\n",
       "      <td>5.0</td>\n",
       "      <td>3.6</td>\n",
       "      <td>1.4</td>\n",
       "      <td>0.2</td>\n",
       "      <td>Iris-setosa</td>\n",
       "    </tr>\n",
       "  </tbody>\n",
       "</table>\n",
       "</div>"
      ],
      "text/plain": [
       "    SL   SW   PL   PW Classification\n",
       "0  5.1  3.5  1.4  0.2    Iris-setosa\n",
       "1  4.9  3.0  1.4  0.2    Iris-setosa\n",
       "2  4.7  3.2  1.3  0.2    Iris-setosa\n",
       "3  4.6  3.1  1.5  0.2    Iris-setosa\n",
       "4  5.0  3.6  1.4  0.2    Iris-setosa"
      ]
     },
     "execution_count": 80,
     "metadata": {},
     "output_type": "execute_result"
    }
   ],
   "source": [
    "data.head()                                              # Displaying Data"
   ]
  },
  {
   "cell_type": "markdown",
   "id": "3c2b310a",
   "metadata": {},
   "source": [
    "## Q.2. Display the columns in the dataset.\n"
   ]
  },
  {
   "cell_type": "code",
   "execution_count": 9,
   "id": "8eb3aaea",
   "metadata": {},
   "outputs": [
    {
     "data": {
      "text/plain": [
       "Index(['SL', 'SW', 'PL', 'PW', 'Classification'], dtype='object')"
      ]
     },
     "execution_count": 9,
     "metadata": {},
     "output_type": "execute_result"
    }
   ],
   "source": [
    "data.columns  ## function to display column names"
   ]
  },
  {
   "cell_type": "markdown",
   "id": "f09f655e",
   "metadata": {},
   "source": [
    "## Q.3. Calculate the mean of each column of the dataset.\n"
   ]
  },
  {
   "cell_type": "code",
   "execution_count": 246,
   "id": "90330f2b",
   "metadata": {},
   "outputs": [
    {
     "data": {
      "text/plain": [
       "5.843333333333335"
      ]
     },
     "execution_count": 246,
     "metadata": {},
     "output_type": "execute_result"
    }
   ],
   "source": [
    "data['SL'].mean()     #Function for finding mean of SW"
   ]
  },
  {
   "cell_type": "code",
   "execution_count": 13,
   "id": "540c304f",
   "metadata": {},
   "outputs": [
    {
     "data": {
      "text/plain": [
       "3.0540000000000007"
      ]
     },
     "execution_count": 13,
     "metadata": {},
     "output_type": "execute_result"
    }
   ],
   "source": [
    "data['SW'].mean()     #Function for finding mean of SW"
   ]
  },
  {
   "cell_type": "code",
   "execution_count": 14,
   "id": "f81bbde7",
   "metadata": {},
   "outputs": [
    {
     "data": {
      "text/plain": [
       "3.7586666666666693"
      ]
     },
     "execution_count": 14,
     "metadata": {},
     "output_type": "execute_result"
    }
   ],
   "source": [
    "data['PL'].mean()    #Function for Finding mean of PW"
   ]
  },
  {
   "cell_type": "code",
   "execution_count": 15,
   "id": "8302eee1",
   "metadata": {},
   "outputs": [
    {
     "data": {
      "text/plain": [
       "1.1986666666666672"
      ]
     },
     "execution_count": 15,
     "metadata": {},
     "output_type": "execute_result"
    }
   ],
   "source": [
    "data['PW'].mean()    #Function for Finding mean of PW"
   ]
  },
  {
   "cell_type": "markdown",
   "id": "bb6905e4",
   "metadata": {},
   "source": [
    "## Q.4 Check for the null values present in the dataset."
   ]
  },
  {
   "cell_type": "code",
   "execution_count": 17,
   "id": "e2e1458b",
   "metadata": {},
   "outputs": [
    {
     "data": {
      "text/plain": [
       "SL                0\n",
       "SW                0\n",
       "PL                0\n",
       "PW                0\n",
       "Classification    0\n",
       "dtype: int64"
      ]
     },
     "execution_count": 17,
     "metadata": {},
     "output_type": "execute_result"
    }
   ],
   "source": [
    "data.isnull().sum()  ##Function for finding null values"
   ]
  },
  {
   "cell_type": "code",
   "execution_count": 18,
   "id": "96e0f77d",
   "metadata": {},
   "outputs": [],
   "source": [
    "# Inference : There is no null value in any of the tables!"
   ]
  },
  {
   "cell_type": "markdown",
   "id": "4c2e9235",
   "metadata": {},
   "source": [
    "## Q.5 Perform meaningful visualizations using the dataset. Bring at least 3 visualizations. "
   ]
  },
  {
   "cell_type": "code",
   "execution_count": 92,
   "id": "433c2483",
   "metadata": {},
   "outputs": [
    {
     "data": {
      "image/png": "[encoded data removed]",
      "text/plain": [
       "<Figure size 640x480 with 1 Axes>"
      ]
     },
     "metadata": {},
     "output_type": "display_data"
    }
   ],
   "source": [
    "plt.hist([data['SL'], data['SW'], data['PL'], data['PW']],label=['SL','SW','PL','PW'])\n",
    "plt.legend()\n",
    "plt.show()\n",
    "\n"
   ]
  },
  {
   "cell_type": "markdown",
   "id": "8af22fe4",
   "metadata": {},
   "source": [
    "Inference : From the above histogram we can see that SW has the largest value while the rest of the values \n",
    "        of SL, PL, PW remain around the same level"
   ]
  },
  {
   "cell_type": "markdown",
   "id": "75aa94ba",
   "metadata": {},
   "source": [
    "### Visualization using Scatter Chart using only PL and PW\n"
   ]
  },
  {
   "cell_type": "code",
   "execution_count": 230,
   "id": "86fd1568",
   "metadata": {},
   "outputs": [
    {
     "data": {
      "image/png": "[encoded data removed]",
      "text/plain": [
       "<Figure size 640x480 with 1 Axes>"
      ]
     },
     "metadata": {},
     "output_type": "display_data"
    }
   ],
   "source": [
    "x=data['PL']\n",
    "y=data['PW']\n",
    "plt.scatter(x,y)\n",
    "plt.show()"
   ]
  },
  {
   "cell_type": "code",
   "execution_count": null,
   "id": "05e7828c",
   "metadata": {},
   "outputs": [],
   "source": [
    "## Inference: The value in PW is scattered toward the bottom of the chart ranging from values 2 and .7, while the values of PL is segragated between 3,7 and 0.9,2.5"
   ]
  },
  {
   "cell_type": "markdown",
   "id": "901f938c",
   "metadata": {},
   "source": [
    "## Visualization using Box Chart"
   ]
  },
  {
   "cell_type": "code",
   "execution_count": 185,
   "id": "69fb7a29",
   "metadata": {},
   "outputs": [
    {
     "data": {
      "image/png": "[encoded data removed]",
      "text/plain": [
       "<Figure size 640x480 with 1 Axes>"
      ]
     },
     "metadata": {},
     "output_type": "display_data"
    },
    {
     "data": {
      "image/png": "[encoded data removed]",
      "text/plain": [
       "<Figure size 640x480 with 1 Axes>"
      ]
     },
     "metadata": {},
     "output_type": "display_data"
    },
    {
     "data": {
      "image/png": "[encoded data removed]",
      "text/plain": [
       "<Figure size 640x480 with 1 Axes>"
      ]
     },
     "metadata": {},
     "output_type": "display_data"
    },
    {
     "data": {
      "image/png": "[encoded data removed]",
      "text/plain": [
       "<Figure size 640x480 with 1 Axes>"
      ]
     },
     "metadata": {},
     "output_type": "display_data"
    }
   ],
   "source": [
    "plt.boxplot(data['SL'])\n",
    "plt.title(\"SL Box Chart\")\n",
    "plt.show()\n",
    "plt.boxplot(data['SW'])\n",
    "plt.title(\"SW Box Chart\")\n",
    "plt.show()\n",
    "plt.boxplot(data['PL'])\n",
    "plt.title(\"PL Box Chart\")\n",
    "plt.show()\n",
    "plt.boxplot(data['PW'])\n",
    "plt.title(\"PW Box Chart\")\n",
    "plt.show()"
   ]
  },
  {
   "cell_type": "code",
   "execution_count": null,
   "id": "510a9ae4",
   "metadata": {},
   "outputs": [],
   "source": [
    "# Inference: SW Box Chart has outliers, infact 4 outliers,\n",
    "#            PW Box chart and PL Box chart has values lying more between the 25% and 75% values"
   ]
  },
  {
   "cell_type": "code",
   "execution_count": null,
   "id": "00f40686",
   "metadata": {},
   "outputs": [],
   "source": []
  }
 ],
 "metadata": {
  "kernelspec": {
   "display_name": "Python 3 (ipykernel)",
   "language": "python",
   "name": "python3"
  },
  "language_info": {
   "codemirror_mode": {
    "name": "ipython",
    "version": 3
   },
   "file_extension": ".py",
   "mimetype": "text/x-python",
   "name": "python",
   "nbconvert_exporter": "python",
   "pygments_lexer": "ipython3",
   "version": "3.9.13"
  }
 },
 "nbformat": 4,
 "nbformat_minor": 5
}
